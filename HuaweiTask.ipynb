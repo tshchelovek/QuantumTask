{
 "cells": [
  {
   "cell_type": "code",
   "execution_count": 490,
   "metadata": {
    "tags": []
   },
   "outputs": [],
   "source": [
    "import networkx as nx\n",
    "import cirq\n",
    "import numpy as np\n",
    "from matplotlib import pyplot as plt"
   ]
  },
  {
   "cell_type": "code",
   "execution_count": 491,
   "metadata": {},
   "outputs": [],
   "source": [
    "class Gate:\n",
    "    def __init__(self, gname, *args):\n",
    "        self.name = gname\n",
    "        self.qs = []\n",
    "        for i in args:\n",
    "            self.qs.append(i)\n",
    "    \n",
    "    def apply(self, *qubits):\n",
    "        return getattr(cirq, self.name)(qubits)"
   ]
  },
  {
   "cell_type": "markdown",
   "metadata": {},
   "source": [
    "### Generate Gate Sequence"
   ]
  },
  {
   "cell_type": "code",
   "execution_count": 521,
   "metadata": {},
   "outputs": [],
   "source": [
    "num_q = 5\n",
    "depth = 3\n",
    "oneq_gates = [\"T\", \"rx\", \"ry\"]\n",
    "inv_prob = [len(oneq_gates) for i in range(len(oneq_gates))]\n",
    "gates = []\n",
    "\n",
    "nodes = []\n",
    "\n",
    "for i in range(num_q):\n",
    "    gates.append(Gate(\"H\", i))\n",
    "    nodes.append((i, {\"subset\" : 0}))\n",
    "\n",
    "cnt = num_q\n",
    "for i in range(depth):\n",
    "    lst = [i for i in range(num_q - 1)]\n",
    "    lst_fin = []\n",
    "    while len(lst) > 0:\n",
    "        v = np.random.choice(lst)\n",
    "        if np.random.random() > 0.1:\n",
    "            lst_fin.append(v)\n",
    "        lst.remove(v)\n",
    "        if (v + 1) in lst:\n",
    "            lst.remove(v + 1)\n",
    "        if (v - 1) in lst:\n",
    "            lst.remove(v - 1)\n",
    "    lst_fin = np.sort(lst_fin)\n",
    "    for v in range(num_q):\n",
    "        if v in lst_fin:\n",
    "            gates.append(Gate(\"CZ\", v, v + 1))\n",
    "            nodes.append((cnt, {\"subset\" : 2 * i + 1}))\n",
    "            cnt += 1\n",
    "        elif v not in lst_fin and v not in lst_fin + 1:\n",
    "            gates.append(Gate(\"\"))\n",
    "            nodes.append((cnt, {\"subset\" : 2 * i + 1}))\n",
    "            cnt += 1\n",
    "\n",
    "    gate = np.random.choice(oneq_gates, p = np.array([1. / i for i in inv_prob]) / sum([1. / i for i in inv_prob]))\n",
    "    inv_prob[oneq_gates.index(gate)] += len(oneq_gates)\n",
    "    for j in range(num_q):\n",
    "        gates.append(Gate(gate, j))\n",
    "        nodes.append((cnt, {\"subset\" : 2 * i + 2}))\n",
    "        cnt += 1"
   ]
  },
  {
   "cell_type": "code",
   "execution_count": 522,
   "metadata": {},
   "outputs": [
    {
     "name": "stdout",
     "output_type": "stream",
     "text": [
      "H [0]\n",
      "H [1]\n",
      "H [2]\n",
      "H [3]\n",
      "H [4]\n",
      " []\n",
      "CZ [1, 2]\n",
      "CZ [3, 4]\n",
      "ry [0]\n",
      "ry [1]\n",
      "ry [2]\n",
      "ry [3]\n",
      "ry [4]\n",
      "CZ [0, 1]\n",
      "CZ [2, 3]\n",
      " []\n",
      "T [0]\n",
      "T [1]\n",
      "T [2]\n",
      "T [3]\n",
      "T [4]\n",
      " []\n",
      " []\n",
      " []\n",
      "CZ [3, 4]\n",
      "rx [0]\n",
      "rx [1]\n",
      "rx [2]\n",
      "rx [3]\n",
      "rx [4]\n"
     ]
    }
   ],
   "source": [
    "for g in gates:\n",
    "    print(g.name, g.qs)"
   ]
  },
  {
   "cell_type": "markdown",
   "metadata": {
    "tags": []
   },
   "source": [
    "### Create Graph"
   ]
  },
  {
   "cell_type": "code",
   "execution_count": 524,
   "metadata": {},
   "outputs": [
    {
     "data": {
      "image/png": "[encoded data removed]",
      "text/plain": [
       "<Figure size 540x252 with 1 Axes>"
      ]
     },
     "metadata": {},
     "output_type": "display_data"
    }
   ],
   "source": [
    "G = nx.DiGraph()\n",
    "G.add_nodes_from(nodes)\n",
    "\n",
    "cur_gate = np.array([i for i in range(num_q)])\n",
    "cur = num_q\n",
    "for gate in gates[num_q:]:\n",
    "    for i in gate.qs:\n",
    "        G.add_edge(cur_gate[i], cur)\n",
    "        cur_gate[i] = cur\n",
    "    cur += 1\n",
    "    \n",
    "pos = nx.multipartite_layout(G)\n",
    "labeldict = {}\n",
    "for i in range(len(gates)):\n",
    "    labeldict[i] = gates[i].name.upper()\n",
    "nx.draw(G, pos, labels = labeldict, with_labels = True, node_color = 'none')"
   ]
  },
  {
   "cell_type": "markdown",
   "metadata": {},
   "source": [
    "### Simulate on LineQubit"
   ]
  },
  {
   "cell_type": "code",
   "execution_count": 525,
   "metadata": {},
   "outputs": [
    {
     "name": "stdout",
     "output_type": "stream",
     "text": [
      "0: ───H───Ry(0.5π)──────────────@───T───Rx(0.5π)──────────────\n",
      "                                │\n",
      "1: ───H───@──────────Ry(0.5π)───@───T───Rx(0.5π)──────────────\n",
      "          │\n",
      "2: ───H───@──────────Ry(0.5π)───@───T───Rx(0.5π)──────────────\n",
      "                                │\n",
      "3: ───H───@──────────Ry(0.5π)───@───T───@──────────Rx(0.5π)───\n",
      "          │                             │\n",
      "4: ───H───@──────────Ry(0.5π)───T───────@──────────Rx(0.5π)───\n"
     ]
    }
   ],
   "source": [
    "q_line = cirq.LineQubit.range(num_q)\n",
    "line_circuit = cirq.Circuit()\n",
    "\n",
    "for gate in gates:        \n",
    "    if len(gate.qs) == 1 and gate.name[0] != 'r':\n",
    "        line_circuit.append(getattr(cirq, gate.name)(q_line[gate.qs[0]]))\n",
    "    elif len(gate.qs) == 1:\n",
    "        line_circuit.append(getattr(cirq, gate.name)(np.pi / 2)(q_line[gate.qs[0]]))\n",
    "    elif len(gate.qs) == 2:\n",
    "        line_circuit.append(getattr(cirq, gate.name)(q_line[gate.qs[0]], q_line[gate.qs[1]]))\n",
    "print(line_circuit)\n",
    "#barier"
   ]
  },
  {
   "cell_type": "code",
   "execution_count": 526,
   "metadata": {},
   "outputs": [
    {
     "name": "stdout",
     "output_type": "stream",
     "text": [
      "measurements: (no measurements)\n",
      "output vector: [-0.02588833+0.02588833j  0.06249999-0.06249996j -0.06249998-0.11427664j\n",
      "  0.15088828+0.27588823j  0.06249997-0.06249999j -0.15088828+0.15088828j\n",
      " -0.0991116 +0.02588833j  0.23927659-0.06249997j  0.11427664+0.06249998j\n",
      " -0.27588823-0.15088828j  0.02588833-0.02588833j -0.06249996+0.06249999j\n",
      " -0.02588833+0.0991116j   0.06249997-0.23927659j -0.06249999+0.06249997j\n",
      "  0.15088828-0.15088828j -0.02588833-0.02588833j  0.06249996+0.06249999j\n",
      "  0.11427664-0.06249998j -0.27588823+0.15088828j  0.06249999+0.06249997j\n",
      " -0.15088828-0.15088828j -0.02588833-0.0991116j   0.06249997+0.23927659j\n",
      " -0.06249998+0.11427664j  0.15088828-0.27588823j  0.02588833+0.02588833j\n",
      " -0.06249999-0.06249996j -0.0991116 -0.02588833j  0.23927659+0.06249997j\n",
      " -0.06249997-0.06249999j  0.15088828+0.15088828j]\n"
     ]
    }
   ],
   "source": [
    "sim = cirq.Simulator()\n",
    "results = sim.simulate(line_circuit)\n",
    "print(results)"
   ]
  },
  {
   "cell_type": "markdown",
   "metadata": {},
   "source": [
    "### Simulate with Swaps"
   ]
  },
  {
   "cell_type": "code",
   "execution_count": 517,
   "metadata": {},
   "outputs": [],
   "source": [
    "# q_grid = np.empty((3, 3), dtype = cq.devices.grid_qubit.GridQubit)\n",
    "# for i in range(2):\n",
    "#     for j in range(3):\n",
    "#         q_grid[i][j] = cirq.GridQubit(i, j)"
   ]
  },
  {
   "cell_type": "code",
   "execution_count": 518,
   "metadata": {},
   "outputs": [],
   "source": [
    "q_cross = []\n",
    "q_cross.append(cirq.GridQubit(0, 1))\n",
    "q_cross.append(cirq.GridQubit(1, 0))\n",
    "q_cross.append(cirq.GridQubit(1, 1))\n",
    "q_cross.append(cirq.GridQubit(1, 2))\n",
    "q_cross.append(cirq.GridQubit(2, 1))"
   ]
  },
  {
   "cell_type": "code",
   "execution_count": 520,
   "metadata": {},
   "outputs": [
    {
     "data": {
      "text/plain": [
       "[cirq.GridQubit(0, 1),\n",
       " cirq.GridQubit(1, 0),\n",
       " cirq.GridQubit(1, 1),\n",
       " cirq.GridQubit(1, 2),\n",
       " cirq.GridQubit(2, 1)]"
      ]
     },
     "execution_count": 520,
     "metadata": {},
     "output_type": "execute_result"
    }
   ],
   "source": [
    "q_cross"
   ]
  },
  {
   "cell_type": "code",
   "execution_count": 488,
   "metadata": {},
   "outputs": [],
   "source": [
    "grid_circuit = cirq.Circuit()"
   ]
  },
  {
   "cell_type": "code",
   "execution_count": 489,
   "metadata": {},
   "outputs": [
    {
     "data": {
      "text/html": [
       "<pre style=\"overflow: auto; white-space: pre;\"></pre>"
      ],
      "text/plain": []
     },
     "execution_count": 489,
     "metadata": {},
     "output_type": "execute_result"
    }
   ],
   "source": [
    "grid_circuit"
   ]
  },
  {
   "cell_type": "markdown",
   "metadata": {},
   "source": [
    "### Results"
   ]
  },
  {
   "cell_type": "code",
   "execution_count": null,
   "metadata": {},
   "outputs": [],
   "source": []
  }
 ],
 "metadata": {
  "kernelspec": {
   "display_name": "Python 3",
   "language": "python",
   "name": "python3"
  },
  "language_info": {
   "codemirror_mode": {
    "name": "ipython",
    "version": 3
   },
   "file_extension": ".py",
   "mimetype": "text/x-python",
   "name": "python",
   "nbconvert_exporter": "python",
   "pygments_lexer": "ipython3",
   "version": "3.9.0"
  }
 },
 "nbformat": 4,
 "nbformat_minor": 4
}
