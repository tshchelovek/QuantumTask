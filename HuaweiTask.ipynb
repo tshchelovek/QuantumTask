{
 "cells": [
  {
   "cell_type": "code",
   "execution_count": 36,
   "metadata": {
    "tags": []
   },
   "outputs": [],
   "source": [
    "import networkx as nx\n",
    "import cirq\n",
    "import cirq_google\n",
    "import numpy as np\n",
    "from matplotlib import pyplot as plt"
   ]
  },
  {
   "cell_type": "code",
   "execution_count": 90,
   "metadata": {},
   "outputs": [],
   "source": [
    "class Gate:\n",
    "    def __init__(self, gname, *args):\n",
    "        self.name = gname\n",
    "        self.qs = []\n",
    "        for i in args:\n",
    "            self.qs.append(i)\n",
    "        if self.name != \"\":\n",
    "            self.gate = getattr(cirq, self.name)\n",
    "\n",
    "def choose_oneq_gates(gates, depth, num_q):\n",
    "    #Chooses one one-qubit gate from given for each step in range(depth)\n",
    "    answer = []\n",
    "    probs = [[len(gates) for i in range(len(gates))] for j in range(num_q)]\n",
    "    for i in range(depth):\n",
    "        ans = []\n",
    "        for j in range(num_q):\n",
    "            gate = np.random.choice(gates, p = np.array([1. / i for i in probs[j]]) / sum([1. / i for i in probs[j]]))\n",
    "            ans.append(gate)\n",
    "            probs[j][gates.index(gate)] += len(gates)\n",
    "        answer.append(ans)\n",
    "#         gate = np.random.choice(gates, p = np.array([1. / i for i in probs]) / sum([1. / i for i in probs]))\n",
    "#         probs[gates.index(gate)] += len(gates)\n",
    "#         ans.append(gate)\n",
    "    return answer\n",
    "\n",
    "def choose_qubits_for_CZ(depth, num_q):\n",
    "    #Chooses qubits to apply CZ to for each step in range(depth)\n",
    "    ans = []\n",
    "    odds = [i for i in range(num_q - 1) if i % 2 == 1]\n",
    "    evens = [i for i in range(num_q - 1) if i % 2 == 0]\n",
    "    vrs = [odds, evens]\n",
    "    probs = [2, 2]\n",
    "    for i in range(depth):\n",
    "        qs = np.random.choice([i for i in range(len(probs))], p = np.array([1. / i for i in probs]) / sum([1. / i for i in probs]))\n",
    "        probs[qs] += len(vrs)\n",
    "        ans.append(np.array(vrs[qs]))\n",
    "    return ans"
   ]
  },
  {
   "cell_type": "markdown",
   "metadata": {},
   "source": [
    "### Generate Gate Sequence"
   ]
  },
  {
   "cell_type": "code",
   "execution_count": 91,
   "metadata": {
    "tags": []
   },
   "outputs": [],
   "source": [
    "num_q = 5\n",
    "depth = 4\n",
    "\n",
    "oneq_gates = [\"T\", \"rx\", \"ry\"]\n",
    "seq_oneq_gates = choose_oneq_gates(oneq_gates, depth, num_q)\n",
    "seq_cz_qubits = choose_qubits_for_CZ(depth, num_q)\n",
    "\n",
    "gates = []\n",
    "nodes = []\n",
    "\n",
    "for i in range(num_q):\n",
    "    gates.append(Gate(\"H\", i))\n",
    "    nodes.append((i, {\"subset\" : 0}))\n",
    "\n",
    "cnt = num_q\n",
    "for i in range(depth):\n",
    "    for v in range(num_q):\n",
    "        if v in seq_cz_qubits[i]:\n",
    "            gates.append(Gate(\"CZ\", v, v + 1))\n",
    "            nodes.append((cnt, {\"subset\" : 2 * i + 1}))\n",
    "            cnt += 1\n",
    "        elif v not in seq_cz_qubits[i] and v not in seq_cz_qubits[i] + 1:\n",
    "            gates.append(Gate(\"\"))\n",
    "            nodes.append((cnt, {\"subset\" : 2 * i + 1}))\n",
    "            cnt += 1\n",
    "\n",
    "    for j in range(num_q):\n",
    "        gates.append(Gate(seq_oneq_gates[i][j], j))\n",
    "        nodes.append((cnt, {\"subset\" : 2 * i + 2}))\n",
    "        cnt += 1"
   ]
  },
  {
   "cell_type": "code",
   "execution_count": 92,
   "metadata": {},
   "outputs": [
    {
     "name": "stdout",
     "output_type": "stream",
     "text": [
      "H [0]\n",
      "H [1]\n",
      "H [2]\n",
      "H [3]\n",
      "H [4]\n",
      " []\n",
      "CZ [1, 2]\n",
      "CZ [3, 4]\n",
      "T [0]\n",
      "T [1]\n",
      "T [2]\n",
      "T [3]\n",
      "T [4]\n",
      "CZ [0, 1]\n",
      "CZ [2, 3]\n",
      " []\n",
      "rx [0]\n",
      "rx [1]\n",
      "ry [2]\n",
      "T [3]\n",
      "ry [4]\n",
      " []\n",
      "CZ [1, 2]\n",
      "CZ [3, 4]\n",
      "ry [0]\n",
      "ry [1]\n",
      "rx [2]\n",
      "T [3]\n",
      "ry [4]\n",
      " []\n",
      "CZ [1, 2]\n",
      "CZ [3, 4]\n",
      "ry [0]\n",
      "ry [1]\n",
      "T [2]\n",
      "ry [3]\n",
      "rx [4]\n"
     ]
    }
   ],
   "source": [
    "for g in gates:\n",
    "    print(g.name, g.qs)"
   ]
  },
  {
   "cell_type": "markdown",
   "metadata": {
    "tags": []
   },
   "source": [
    "### Create Graph"
   ]
  },
  {
   "cell_type": "code",
   "execution_count": 93,
   "metadata": {},
   "outputs": [
    {
     "data": {
      "image/png": "[encoded data removed]",
      "text/plain": [
       "<Figure size 432x288 with 1 Axes>"
      ]
     },
     "metadata": {},
     "output_type": "display_data"
    }
   ],
   "source": [
    "G = nx.DiGraph()\n",
    "G.add_nodes_from(nodes)\n",
    "\n",
    "cur_gate = np.array([i for i in range(num_q)])\n",
    "cur = num_q\n",
    "for gate in gates[num_q:]:\n",
    "    for i in gate.qs:\n",
    "        G.add_edge(cur_gate[i], cur)\n",
    "        cur_gate[i] = cur\n",
    "    cur += 1\n",
    "    \n",
    "pos = nx.multipartite_layout(G)\n",
    "labeldict = {}\n",
    "for i in range(len(gates)):\n",
    "    labeldict[i] = gates[i].name.upper()\n",
    "nx.draw(G, pos, labels = labeldict, with_labels = True, node_color = 'none')"
   ]
  },
  {
   "cell_type": "markdown",
   "metadata": {},
   "source": [
    "### Simulate on LineQubit"
   ]
  },
  {
   "cell_type": "code",
   "execution_count": 94,
   "metadata": {},
   "outputs": [
    {
     "name": "stdout",
     "output_type": "stream",
     "text": [
      "0: ───H───T───────@──────────Rx(0.5π)───Ry(0.5π)───Ry(0.5π)──────────────────\n",
      "                  │\n",
      "1: ───H───@───T───@──────────Rx(0.5π)───@──────────Ry(0.5π)───@───Ry(0.5π)───\n",
      "          │                             │                     │\n",
      "2: ───H───@───T───@──────────Ry(0.5π)───@──────────Rx(0.5π)───@───T──────────\n",
      "                  │\n",
      "3: ───H───@───T───@──────────T──────────@──────────T──────────@───Ry(0.5π)───\n",
      "          │                             │                     │\n",
      "4: ───H───@───T───Ry(0.5π)──────────────@──────────Ry(0.5π)───@───Rx(0.5π)───\n"
     ]
    }
   ],
   "source": [
    "q_line = cirq.LineQubit.range(num_q)\n",
    "line_circuit = cirq.Circuit()\n",
    "\n",
    "for gate in gates:        \n",
    "    if len(gate.qs) == 1 and gate.name[0] != 'r':\n",
    "        line_circuit.append(gate.gate(q_line[gate.qs[0]]))\n",
    "    elif len(gate.qs) == 1:\n",
    "        line_circuit.append(gate.gate(np.pi / 2)(q_line[gate.qs[0]]))\n",
    "    elif len(gate.qs) == 2:\n",
    "        line_circuit.append(gate.gate(q_line[gate.qs[0]], q_line[gate.qs[1]]))\n",
    "print(line_circuit)"
   ]
  },
  {
   "cell_type": "code",
   "execution_count": 95,
   "metadata": {},
   "outputs": [
    {
     "name": "stdout",
     "output_type": "stream",
     "text": [
      "measurements: (no measurements)\n",
      "output vector: [-0.16919413-0.10669415j  0.01830584+0.04419417j -0.22097081-0.10669416j\n",
      "  0.1433058 +0.04419416j -0.1325825 -0.10669414j  0.1433058 -0.04419413j\n",
      " -0.04419417-0.19508249j -0.07008252+0.1691941j   0.16919416-0.14330578j\n",
      " -0.19508246+0.13258249j  0.04419414-0.07008249j  0.10669415-0.04419417j\n",
      " -0.08080582+0.01830582j  0.19508246+0.08080581j  0.08080582+0.10669415j\n",
      " -0.19508244-0.13258249j -0.07008249+0.1325825j   0.08080579-0.23169407j\n",
      " -0.01830581-0.04419418j -0.04419416+0.19508246j  0.07008251-0.16919412j\n",
      " -0.16919412+0.10669414j -0.0700825 -0.1325825j   0.16919412+0.01830582j\n",
      " -0.10669413+0.04419417j -0.08080581-0.01830582j -0.23169412+0.04419414j\n",
      "  0.22097081-0.01830581j -0.2316941 -0.04419414j  0.13258246-0.01830582j\n",
      " -0.19508249-0.08080577j  0.04419419+0.07008249j]\n"
     ]
    }
   ],
   "source": [
    "sim = cirq.Simulator()\n",
    "results_line = sim.simulate(line_circuit)\n",
    "print(results_line)"
   ]
  },
  {
   "cell_type": "markdown",
   "metadata": {},
   "source": [
    "### Simulate with Swaps"
   ]
  },
  {
   "cell_type": "code",
   "execution_count": 96,
   "metadata": {},
   "outputs": [
    {
     "name": "stdout",
     "output_type": "stream",
     "text": [
      "                       ┌──┐                                                                          ┌─────────┐                          ┌─────────┐\n",
      "(0, 1): ───H───T─────────────────────────────@───Rx(0.5π)───Ry(0.5π)───Ry(0.5π)────────────────────────────────────────────────────────────────────────────────────────────\n",
      "                                             │\n",
      "(1, 0): ───H───@───T─────────────────────────┼──────────────@──────────Ry(0.5π)───────@───Rx(0.5π)────────────────────────────────@───T────────────────────────────────×───\n",
      "               │                             │              │                         │                                           │                                    │\n",
      "(1, 1): ───H───@───×────@─────T───×──────────@───×──────────@──────────T──────────×───@───×───────────@────────────T──────────×───@───×────@────────────Ry(0.5π)───×───×───\n",
      "                   │    │         │              │                                │       │           │                       │       │    │                       │\n",
      "(1, 2): ───H───────×────┼T────────×──────────────×──────────Rx(0.5π)──────────────×───────×───────────┼Ry(0.5π)───────────────×───────×────┼Ry(0.5π)───────────────×───────\n",
      "                        │                                                                             │                                    │\n",
      "(2, 1): ───H────────────@─────T───Ry(0.5π)────────────────────────────────────────────────────────────@────────────Ry(0.5π)────────────────@────────────Rx(0.5π)───────────\n",
      "                       └──┘                                                                          └─────────┘                          └─────────┘\n"
     ]
    }
   ],
   "source": [
    "q_cross = []\n",
    "#В начале в центре первый кубит (можем применять CZ на пары (0,1) и (1,2)), при необходимости меняем его и третий (получаем оставшиеся пары (2,3) и (3,4))\n",
    "q_cross.append(cirq.GridQubit(0, 1))    #qubit 0\n",
    "q_cross.append(cirq.GridQubit(1, 1))    #qubit 1\n",
    "q_cross.append(cirq.GridQubit(1, 0))    #qubit 2\n",
    "q_cross.append(cirq.GridQubit(1, 2))    #qubit 3\n",
    "q_cross.append(cirq.GridQubit(2, 1))    #qubit 4\n",
    "qubits = [i for i in range(num_q)]\n",
    "\n",
    "def crs(q):\n",
    "    return qubits.index(q)\n",
    "def swap(qubits):\n",
    "    sw = qubits[1]\n",
    "    qubits[1] = qubits[3]\n",
    "    qubits[3] = sw    \n",
    "\n",
    "cross_circuit = cirq.Circuit()\n",
    "\n",
    "for gate in gates:        \n",
    "    if len(gate.qs) == 1 and gate.name[0] != 'r':\n",
    "        cross_circuit.append(gate.gate(q_cross[crs(gate.qs[0])]))\n",
    "    elif len(gate.qs) == 1:\n",
    "        cross_circuit.append(gate.gate(np.pi / 2)(q_cross[crs(gate.qs[0])]))\n",
    "    elif len(gate.qs) == 2:\n",
    "        if (3 in gate.qs and qubits[1] == 1) or (1 in gate.qs and qubits[1] == 3):\n",
    "            qb = crs(gate.qs[1 - gate.qs.index(4 - qubits[1])])\n",
    "            cross_circuit.append(cirq.SWAP(q_cross[crs(1)], q_cross[crs(3)]))\n",
    "            swap(qubits)\n",
    "        else:\n",
    "            qb = crs(gate.qs[1 - gate.qs.index(qubits[1])])\n",
    "        cross_circuit.append(gate.gate(q_cross[1], q_cross[qb]))\n",
    "if qubits[1] == 3:\n",
    "    cross_circuit.append(cirq.SWAP(q_cross[1], q_cross[3]))\n",
    "cross_circuit.append(cirq.SWAP(q_cross[1], q_cross[2]))\n",
    "print(cross_circuit)"
   ]
  },
  {
   "cell_type": "code",
   "execution_count": 97,
   "metadata": {},
   "outputs": [
    {
     "name": "stdout",
     "output_type": "stream",
     "text": [
      "0: ───H───T───────@──────────Rx(0.5π)───Ry(0.5π)───Ry(0.5π)──────────────────\n",
      "                  │\n",
      "1: ───H───@───T───@──────────Rx(0.5π)───@──────────Ry(0.5π)───@───Ry(0.5π)───\n",
      "          │                             │                     │\n",
      "2: ───H───@───T───@──────────Ry(0.5π)───@──────────Rx(0.5π)───@───T──────────\n",
      "                  │\n",
      "3: ───H───@───T───@──────────T──────────@──────────T──────────@───Ry(0.5π)───\n",
      "          │                             │                     │\n",
      "4: ───H───@───T───Ry(0.5π)──────────────@──────────Ry(0.5π)───@───Rx(0.5π)───\n"
     ]
    }
   ],
   "source": [
    "print(line_circuit)"
   ]
  },
  {
   "cell_type": "code",
   "execution_count": 98,
   "metadata": {},
   "outputs": [
    {
     "name": "stdout",
     "output_type": "stream",
     "text": [
      "measurements: (no measurements)\n",
      "output vector: [-0.16919407-0.10669412j  0.01830581+0.04419413j -0.22097075-0.10669412j\n",
      "  0.14330573+0.04419414j -0.13258246-0.10669413j  0.14330575-0.04419415j\n",
      " -0.04419417-0.1950824j  -0.07008248+0.16919407j  0.16919409-0.14330578j\n",
      " -0.19508243+0.13258247j  0.04419415-0.07008249j  0.10669412-0.04419415j\n",
      " -0.08080577+0.01830582j  0.19508243+0.08080577j  0.08080578+0.10669412j\n",
      " -0.19508241-0.13258244j -0.0700825 +0.13258244j  0.08080578-0.23169406j\n",
      " -0.01830582-0.04419414j -0.04419415+0.19508243j  0.07008249-0.16919406j\n",
      " -0.16919409+0.10669412j -0.07008247-0.13258244j  0.16919409+0.01830582j\n",
      " -0.10669413+0.04419415j -0.08080578-0.0183058j  -0.23169404+0.04419412j\n",
      "  0.22097075-0.01830583j -0.23169404-0.04419415j  0.13258244-0.01830583j\n",
      " -0.19508241-0.08080579j  0.04419414+0.07008247j]\n"
     ]
    }
   ],
   "source": [
    "sim_cross = cirq.Simulator()\n",
    "results_cross = sim_cross.simulate(cross_circuit)\n",
    "print(results_cross)"
   ]
  },
  {
   "cell_type": "markdown",
   "metadata": {},
   "source": [
    "### Results comparison"
   ]
  },
  {
   "cell_type": "code",
   "execution_count": 99,
   "metadata": {},
   "outputs": [
    {
     "data": {
      "text/plain": [
       "array([-0.-0.j,  0.+0.j, -0.-0.j,  0.+0.j, -0.-0.j,  0.+0.j,  0.-0.j,\n",
       "       -0.+0.j,  0.+0.j, -0.+0.j, -0.-0.j,  0.-0.j, -0.-0.j,  0.+0.j,\n",
       "        0.+0.j, -0.-0.j,  0.+0.j,  0.-0.j,  0.-0.j, -0.+0.j,  0.-0.j,\n",
       "       -0.+0.j, -0.-0.j,  0.-0.j,  0.+0.j, -0.-0.j, -0.+0.j,  0.+0.j,\n",
       "       -0.+0.j,  0.+0.j, -0.+0.j,  0.+0.j], dtype=complex64)"
      ]
     },
     "execution_count": 99,
     "metadata": {},
     "output_type": "execute_result"
    }
   ],
   "source": [
    "np.round(results_line.final_state_vector - results_cross.final_state_vector, 3)\n",
    "#Результаты одинаковые"
   ]
  },
  {
   "cell_type": "code",
   "execution_count": null,
   "metadata": {},
   "outputs": [],
   "source": []
  }
 ],
 "metadata": {
  "kernelspec": {
   "display_name": "Python 3",
   "language": "python",
   "name": "python3"
  },
  "language_info": {
   "codemirror_mode": {
    "name": "ipython",
    "version": 3
   },
   "file_extension": ".py",
   "mimetype": "text/x-python",
   "name": "python",
   "nbconvert_exporter": "python",
   "pygments_lexer": "ipython3",
   "version": "3.9.0"
  }
 },
 "nbformat": 4,
 "nbformat_minor": 4
}
