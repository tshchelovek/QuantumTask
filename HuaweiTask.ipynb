{
 "cells": [
  {
   "cell_type": "code",
   "execution_count": 535,
   "metadata": {
    "tags": []
   },
   "outputs": [],
   "source": [
    "import networkx as nx\n",
    "import cirq\n",
    "import cirq_google\n",
    "import numpy as np\n",
    "from matplotlib import pyplot as plt"
   ]
  },
  {
   "cell_type": "code",
   "execution_count": 491,
   "metadata": {},
   "outputs": [],
   "source": [
    "class Gate:\n",
    "    def __init__(self, gname, *args):\n",
    "        self.name = gname\n",
    "        self.qs = []\n",
    "        for i in args:\n",
    "            self.qs.append(i)\n",
    "    \n",
    "    def apply(self, *qubits):\n",
    "        return getattr(cirq, self.name)(qubits)"
   ]
  },
  {
   "cell_type": "markdown",
   "metadata": {},
   "source": [
    "### Generate Gate Sequence"
   ]
  },
  {
   "cell_type": "code",
   "execution_count": 712,
   "metadata": {},
   "outputs": [],
   "source": [
    "num_q = 5\n",
    "depth = 5\n",
    "oneq_gates = [\"T\", \"rx\", \"ry\"]\n",
    "inv_prob = [len(oneq_gates) for i in range(len(oneq_gates))]\n",
    "gates = []\n",
    "\n",
    "nodes = []\n",
    "\n",
    "for i in range(num_q):\n",
    "    gates.append(Gate(\"H\", i))\n",
    "    nodes.append((i, {\"subset\" : 0}))\n",
    "\n",
    "cnt = num_q\n",
    "for i in range(depth):\n",
    "    lst = [i for i in range(num_q - 1)]\n",
    "    lst_fin = []\n",
    "    while len(lst) > 0:\n",
    "        v = np.random.choice(lst)\n",
    "        lst_fin.append(v)\n",
    "        lst.remove(v)\n",
    "        if (v + 1) in lst:\n",
    "            lst.remove(v + 1)\n",
    "        if (v - 1) in lst:\n",
    "            lst.remove(v - 1)\n",
    "    lst_fin = np.sort(lst_fin)\n",
    "    for v in range(num_q):\n",
    "        if v in lst_fin:\n",
    "            gates.append(Gate(\"CZ\", v, v + 1))\n",
    "            nodes.append((cnt, {\"subset\" : 2 * i + 1}))\n",
    "            cnt += 1\n",
    "        elif v not in lst_fin and v not in lst_fin + 1:\n",
    "            gates.append(Gate(\"\"))\n",
    "            nodes.append((cnt, {\"subset\" : 2 * i + 1}))\n",
    "            cnt += 1\n",
    "\n",
    "    gate = np.random.choice(oneq_gates, p = np.array([1. / i for i in inv_prob]) / sum([1. / i for i in inv_prob]))\n",
    "    inv_prob[oneq_gates.index(gate)] += len(oneq_gates)\n",
    "    for j in range(num_q):\n",
    "        gates.append(Gate(gate, j))\n",
    "        nodes.append((cnt, {\"subset\" : 2 * i + 2}))\n",
    "        cnt += 1"
   ]
  },
  {
   "cell_type": "code",
   "execution_count": 713,
   "metadata": {},
   "outputs": [],
   "source": [
    "# for g in gates:\n",
    "#     print(g.name, g.qs)"
   ]
  },
  {
   "cell_type": "markdown",
   "metadata": {
    "tags": []
   },
   "source": [
    "### Create Graph"
   ]
  },
  {
   "cell_type": "code",
   "execution_count": 714,
   "metadata": {},
   "outputs": [
    {
     "data": {
      "image/png": "[encoded data removed]",
      "text/plain": [
       "<Figure size 540x252 with 1 Axes>"
      ]
     },
     "metadata": {},
     "output_type": "display_data"
    }
   ],
   "source": [
    "G = nx.DiGraph()\n",
    "G.add_nodes_from(nodes)\n",
    "\n",
    "cur_gate = np.array([i for i in range(num_q)])\n",
    "cur = num_q\n",
    "for gate in gates[num_q:]:\n",
    "    for i in gate.qs:\n",
    "        G.add_edge(cur_gate[i], cur)\n",
    "        cur_gate[i] = cur\n",
    "    cur += 1\n",
    "    \n",
    "pos = nx.multipartite_layout(G)\n",
    "labeldict = {}\n",
    "for i in range(len(gates)):\n",
    "    labeldict[i] = gates[i].name.upper()\n",
    "nx.draw(G, pos, labels = labeldict, with_labels = True, node_color = 'none')"
   ]
  },
  {
   "cell_type": "markdown",
   "metadata": {},
   "source": [
    "### Simulate on LineQubit"
   ]
  },
  {
   "cell_type": "code",
   "execution_count": 715,
   "metadata": {},
   "outputs": [
    {
     "name": "stdout",
     "output_type": "stream",
     "text": [
      "0: ───H───T───Rx(0.5π)───Rx(0.5π)─────────────────────────────@───T───@──────────Rx(0.5π)───\n",
      "                                                              │       │\n",
      "1: ───H───@───T──────────@──────────Rx(0.5π)───@───Rx(0.5π)───@───T───@──────────Rx(0.5π)───\n",
      "          │              │                     │\n",
      "2: ───H───@───T──────────@──────────Rx(0.5π)───@───Rx(0.5π)───@───T───Rx(0.5π)──────────────\n",
      "                                                              │\n",
      "3: ───H───@───T──────────@──────────Rx(0.5π)───@───Rx(0.5π)───@───T───@──────────Rx(0.5π)───\n",
      "          │              │                     │                      │\n",
      "4: ───H───@───T──────────@──────────Rx(0.5π)───@───Rx(0.5π)───T───────@──────────Rx(0.5π)───\n"
     ]
    }
   ],
   "source": [
    "q_line = cirq.LineQubit.range(num_q)\n",
    "line_circuit = cirq.Circuit()\n",
    "\n",
    "for gate in gates:        \n",
    "    if len(gate.qs) == 1 and gate.name[0] != 'r':\n",
    "        line_circuit.append(getattr(cirq, gate.name)(q_line[gate.qs[0]]))\n",
    "    elif len(gate.qs) == 1:\n",
    "        line_circuit.append(getattr(cirq, gate.name)(np.pi / 2)(q_line[gate.qs[0]]))\n",
    "    elif len(gate.qs) == 2:\n",
    "        line_circuit.append(getattr(cirq, gate.name)(q_line[gate.qs[0]], q_line[gate.qs[1]]))\n",
    "print(line_circuit)\n",
    "#barier"
   ]
  },
  {
   "cell_type": "code",
   "execution_count": 716,
   "metadata": {},
   "outputs": [
    {
     "name": "stdout",
     "output_type": "stream",
     "text": [
      "measurements: (no measurements)\n",
      "output vector: [ 1.5088828e-01+0.10669415j -8.8388301e-02-0.10669412j\n",
      " -1.5088828e-01+0.04419415j  5.5879354e-09-0.16919409j\n",
      "  8.8388294e-02-0.10669411j  1.5088825e-01-0.10669412j\n",
      "  1.3038516e-08-0.16919407j -1.5088826e-01-0.04419415j\n",
      "  2.0266493e-01+0.04419417j  3.7252903e-09-0.16919409j\n",
      " -1.5088826e-01-0.05491742j -8.8388279e-02-0.1950824j\n",
      "  1.1175871e-08-0.1691941j   2.0266491e-01-0.04419415j\n",
      "  8.8388301e-02-0.1950824j  -1.5088826e-01+0.05491745j\n",
      "  1.5088826e-01+0.10669414j -8.8388316e-02-0.10669413j\n",
      " -1.5088829e-01+0.04419414j  1.8626451e-09-0.16919407j\n",
      "  8.8388309e-02-0.10669411j  1.5088828e-01-0.10669415j\n",
      "  5.5879354e-09-0.16919409j -1.5088828e-01-0.04419417j\n",
      "  2.0266491e-01+0.04419415j  1.3038516e-08-0.1691941j\n",
      " -1.5088826e-01-0.05491745j -8.8388301e-02-0.1950824j\n",
      " -7.4505806e-09-0.16919409j  2.0266493e-01-0.04419415j\n",
      "  8.8388294e-02-0.1950824j  -1.5088826e-01+0.05491746j]\n"
     ]
    }
   ],
   "source": [
    "sim = cirq.Simulator()\n",
    "results_line = sim.simulate(line_circuit)\n",
    "print(results_line)"
   ]
  },
  {
   "cell_type": "markdown",
   "metadata": {},
   "source": [
    "### Simulate with Swaps"
   ]
  },
  {
   "cell_type": "code",
   "execution_count": 717,
   "metadata": {},
   "outputs": [
    {
     "name": "stdout",
     "output_type": "stream",
     "text": [
      "                              ┌─────────┐                          ┌─────────┐                                 ┌─────────┐                                                            ┌─────────┐\n",
      "(0, 1): ───H───T───Rx(0.5π)────Rx(0.5π)─────────────────────────────────────────────────────────────────────────────────────────────────────@───T──────────────────────@───Rx(0.5π)────────────────────────────────────\n",
      "                                                                                                                                            │                          │\n",
      "(1, 0): ───H───@───T────────────────────────────────@───Rx(0.5π)────────────────────────────────@───Rx(0.5π)────────────────────────────────┼───────@───T───Rx(0.5π)───┼───────────────────────────────────────────×───\n",
      "               │                                    │                                           │                                           │       │                  │                                           │\n",
      "(1, 1): ───H───@───×───────────@────────────T───×───@───×───────────@────────────Rx(0.5π)───×───@───×───────────@────────────Rx(0.5π)───×───@───×───@───T───×──────────@───×───────────@────────────Rx(0.5π)───×───×───\n",
      "                   │           │                │       │           │                       │       │           │                       │       │           │              │           │                       │\n",
      "(1, 2): ───H───────×───────────┼───────T────────×───────×───────────┼Rx(0.5π)───────────────×───────×───────────┼Rx(0.5π)───────────────×───────×───T───────×──────────────×───────────┼Rx(0.5π)───────────────×───────\n",
      "                               │                                    │                                           │                                                                      │\n",
      "(2, 1): ───H───────────────────@────────────T───────────────────────@────────────Rx(0.5π)───────────────────────@────────────Rx(0.5π)───T──────────────────────────────────────────────@────────────Rx(0.5π)───────────\n",
      "                              └─────────┘                          └─────────┘                                 └─────────┘                                                            └─────────┘\n"
     ]
    }
   ],
   "source": [
    "q_cross = []\n",
    "#В начале в центре первый кубит (можем применять CZ на пары (0,1) и (1,2)), при необходимости меняем его и третий (получаем оставшиеся пары (2,3) и (3,4))\n",
    "q_cross.append(cirq.GridQubit(0, 1))    #qubit 0\n",
    "q_cross.append(cirq.GridQubit(1, 1))    #qubit 1\n",
    "q_cross.append(cirq.GridQubit(1, 0))    #qubit 2\n",
    "q_cross.append(cirq.GridQubit(1, 2))    #qubit 3\n",
    "q_cross.append(cirq.GridQubit(2, 1))    #qubit 4\n",
    "\n",
    "cross_circuit = cirq.Circuit()\n",
    "current = 1\n",
    "\n",
    "for gate in gates:        \n",
    "    if len(gate.qs) == 1 and gate.name[0] != 'r':\n",
    "        cross_circuit.append(getattr(cirq, gate.name)(q_cross[gate.qs[0]]))\n",
    "    elif len(gate.qs) == 1:\n",
    "        cross_circuit.append(getattr(cirq, gate.name)(np.pi / 2)(q_cross[gate.qs[0]]))\n",
    "    elif len(gate.qs) == 2:\n",
    "        if 3 in gate.qs and current == 1:\n",
    "            qb = gate.qs[1 - gate.qs.index(3)]\n",
    "            cross_circuit.append(cirq.SWAP(q_cross[1], q_cross[3]))\n",
    "            current = 3\n",
    "        elif 1 in gate.qs and current == 3:\n",
    "            qb = gate.qs[1 - gate.qs.index(1)]\n",
    "            cross_circuit.append(cirq.SWAP(q_cross[1], q_cross[3]))\n",
    "            current = 1\n",
    "        else:\n",
    "            qb = gate.qs[1 - gate.qs.index(current)]\n",
    "        cross_circuit.append(getattr(cirq, gate.name)(q_cross[1], q_cross[qb]))\n",
    "if current == 3:\n",
    "    cross_circuit.append(cirq.SWAP(q_cross[1], q_cross[3]))\n",
    "cross_circuit.append(cirq.SWAP(q_cross[1], q_cross[2]))\n",
    "print(cross_circuit)"
   ]
  },
  {
   "cell_type": "code",
   "execution_count": 718,
   "metadata": {},
   "outputs": [
    {
     "name": "stdout",
     "output_type": "stream",
     "text": [
      "measurements: (no measurements)\n",
      "output vector: [ 1.5088825e-01+0.10669415j -8.8388264e-02-0.10669412j\n",
      " -1.5088826e-01+0.04419413j  3.7252903e-09-0.16919407j\n",
      "  8.8388309e-02-0.1066941j   1.5088826e-01-0.1066941j\n",
      "  2.6077032e-08-0.16919406j -1.5088828e-01-0.04419415j\n",
      "  2.0266493e-01+0.04419418j  1.6763806e-08-0.16919409j\n",
      " -1.5088825e-01-0.05491747j -8.8388324e-02-0.19508241j\n",
      "  1.8626451e-09-0.1691941j   2.0266491e-01-0.04419414j\n",
      "  8.8388331e-02-0.19508238j -1.5088828e-01+0.05491746j\n",
      "  1.5088826e-01+0.10669412j -8.8388294e-02-0.1066941j\n",
      " -1.5088826e-01+0.04419415j -1.3038516e-08-0.16919407j\n",
      "  8.8388279e-02-0.1066941j   1.5088826e-01-0.10669413j\n",
      "  7.4505806e-09-0.16919407j -1.5088826e-01-0.04419415j\n",
      "  2.0266494e-01+0.04419415j  3.1664968e-08-0.16919407j\n",
      " -1.5088825e-01-0.05491746j -8.8388339e-02-0.19508241j\n",
      " -4.0978193e-08-0.1691941j   2.0266491e-01-0.04419416j\n",
      "  8.8388309e-02-0.1950824j  -1.5088826e-01+0.0549175j ]\n"
     ]
    }
   ],
   "source": [
    "sim_cross = cirq.Simulator()\n",
    "results_cross = sim_cross.simulate(cross_circuit)\n",
    "print(results_cross)"
   ]
  },
  {
   "cell_type": "markdown",
   "metadata": {},
   "source": [
    "### Results comparison"
   ]
  },
  {
   "cell_type": "code",
   "execution_count": 719,
   "metadata": {},
   "outputs": [
    {
     "data": {
      "text/plain": [
       "array([ 0.+0.j, -0.+0.j, -0.+0.j,  0.-0.j, -0.-0.j, -0.-0.j, -0.-0.j,\n",
       "        0.+0.j,  0.-0.j, -0.+0.j, -0.+0.j,  0.+0.j,  0.+0.j,  0.-0.j,\n",
       "       -0.-0.j,  0.-0.j,  0.+0.j, -0.-0.j, -0.-0.j,  0.+0.j,  0.-0.j,\n",
       "        0.-0.j, -0.-0.j, -0.-0.j, -0.+0.j, -0.-0.j, -0.+0.j,  0.+0.j,\n",
       "        0.+0.j,  0.+0.j, -0.+0.j,  0.-0.j], dtype=complex64)"
      ]
     },
     "execution_count": 719,
     "metadata": {},
     "output_type": "execute_result"
    }
   ],
   "source": [
    "np.round(results_line.final_state_vector - results_cross.final_state_vector, 3)\n",
    "#Результаты одинаковые"
   ]
  }
 ],
 "metadata": {
  "kernelspec": {
   "display_name": "Python 3",
   "language": "python",
   "name": "python3"
  },
  "language_info": {
   "codemirror_mode": {
    "name": "ipython",
    "version": 3
   },
   "file_extension": ".py",
   "mimetype": "text/x-python",
   "name": "python",
   "nbconvert_exporter": "python",
   "pygments_lexer": "ipython3",
   "version": "3.9.0"
  }
 },
 "nbformat": 4,
 "nbformat_minor": 4
}
