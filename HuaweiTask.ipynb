{
 "cells": [
  {
   "cell_type": "code",
   "execution_count": 535,
   "metadata": {
    "tags": []
   },
   "outputs": [],
   "source": [
    "import networkx as nx\n",
    "import cirq\n",
    "import cirq_google\n",
    "import numpy as np\n",
    "from matplotlib import pyplot as plt"
   ]
  },
  {
   "cell_type": "code",
   "execution_count": 801,
   "metadata": {},
   "outputs": [],
   "source": [
    "class Gate:\n",
    "    def __init__(self, gname, *args):\n",
    "        self.name = gname\n",
    "        self.qs = []\n",
    "        for i in args:\n",
    "            self.qs.append(i)\n",
    "    \n",
    "    def apply(self, *qubits):\n",
    "        return getattr(cirq, self.name)(qubits)\n",
    "\n",
    "def choose_oneq_gates(gates, depth):\n",
    "    #Chooses one one-qubit gate from given for each step in range(depth)\n",
    "    ans = []\n",
    "    probs = [len(gates) for i in range(len(gates))]\n",
    "    for i in range(depth):\n",
    "        gate = np.random.choice(gates, p = np.array([1. / i for i in probs]) / sum([1. / i for i in probs]))\n",
    "        probs[gates.index(gate)] += len(gates)\n",
    "        ans.append(gate)\n",
    "    return ans\n",
    "\n",
    "def choose_qubits_for_CZ(depth, num_q):\n",
    "    #Chooses qubits to apply CZ to for each step in range(depth)\n",
    "    ans = []\n",
    "    if num_q == 2:\n",
    "        vrs = [[0], []]\n",
    "        probs = [2 for i in range(2)]\n",
    "    elif num_q == 3:\n",
    "        vrs = [[0], [1]]\n",
    "        probs = [2 for i in range(2)]\n",
    "    elif num_q == 4:\n",
    "        vrs = [[0, 2], [1]]\n",
    "        probs = [2 for i in range(2)]\n",
    "    elif num_q == 5:\n",
    "        vrs = [[0, 2], [0, 3], [1, 3]]\n",
    "        probs = [3 for i in range(3)]\n",
    "    ans = []\n",
    "    for i in range(depth):\n",
    "        qs = np.random.choice([i for i in range(len(probs))], p = np.array([1. / i for i in probs]) / sum([1. / i for i in probs]))\n",
    "        probs[qs] += len(vrs)\n",
    "        ans.append(np.array(vrs[qs]))\n",
    "    return ans"
   ]
  },
  {
   "cell_type": "markdown",
   "metadata": {},
   "source": [
    "### Generate Gate Sequence"
   ]
  },
  {
   "cell_type": "code",
   "execution_count": 802,
   "metadata": {},
   "outputs": [],
   "source": [
    "num_q = 5\n",
    "depth = 3\n",
    "\n",
    "oneq_gates = [\"T\", \"rx\", \"ry\"]\n",
    "seq_oneq_gates = choose_oneq_gates(oneq_gates, depth)\n",
    "seq_cz_qubits = choose_qubits_for_CZ(depth, num_q)\n",
    "\n",
    "gates = []\n",
    "nodes = []\n",
    "\n",
    "for i in range(num_q):\n",
    "    gates.append(Gate(\"H\", i))\n",
    "    nodes.append((i, {\"subset\" : 0}))\n",
    "\n",
    "cnt = num_q\n",
    "for i in range(depth):\n",
    "    for v in range(num_q):\n",
    "        if v in seq_cz_qubits[i]:\n",
    "            gates.append(Gate(\"CZ\", v, v + 1))\n",
    "            nodes.append((cnt, {\"subset\" : 2 * i + 1}))\n",
    "            cnt += 1\n",
    "        elif v not in seq_cz_qubits[i] and v not in seq_cz_qubits[i] + 1:\n",
    "            gates.append(Gate(\"\"))\n",
    "            nodes.append((cnt, {\"subset\" : 2 * i + 1}))\n",
    "            cnt += 1\n",
    "\n",
    "    for j in range(num_q):\n",
    "        gates.append(Gate(seq_oneq_gates[i], j))\n",
    "        nodes.append((cnt, {\"subset\" : 2 * i + 2}))\n",
    "        cnt += 1"
   ]
  },
  {
   "cell_type": "code",
   "execution_count": 803,
   "metadata": {},
   "outputs": [],
   "source": [
    "# for g in gates:\n",
    "#     print(g.name, g.qs)"
   ]
  },
  {
   "cell_type": "markdown",
   "metadata": {
    "tags": []
   },
   "source": [
    "### Create Graph"
   ]
  },
  {
   "cell_type": "code",
   "execution_count": 804,
   "metadata": {},
   "outputs": [
    {
     "data": {
      "image/png": "[encoded data removed]",
      "text/plain": [
       "<Figure size 540x252 with 1 Axes>"
      ]
     },
     "metadata": {},
     "output_type": "display_data"
    }
   ],
   "source": [
    "G = nx.DiGraph()\n",
    "G.add_nodes_from(nodes)\n",
    "\n",
    "cur_gate = np.array([i for i in range(num_q)])\n",
    "cur = num_q\n",
    "for gate in gates[num_q:]:\n",
    "    for i in gate.qs:\n",
    "        G.add_edge(cur_gate[i], cur)\n",
    "        cur_gate[i] = cur\n",
    "    cur += 1\n",
    "    \n",
    "pos = nx.multipartite_layout(G)\n",
    "labeldict = {}\n",
    "for i in range(len(gates)):\n",
    "    labeldict[i] = gates[i].name.upper()\n",
    "nx.draw(G, pos, labels = labeldict, with_labels = True, node_color = 'none')"
   ]
  },
  {
   "cell_type": "markdown",
   "metadata": {},
   "source": [
    "### Simulate on LineQubit"
   ]
  },
  {
   "cell_type": "code",
   "execution_count": 798,
   "metadata": {},
   "outputs": [
    {
     "name": "stdout",
     "output_type": "stream",
     "text": [
      "0: ───H───@───T───@──────────Rx(0.5π)───@───T───\n",
      "          │       │                     │\n",
      "1: ───H───@───T───@──────────Rx(0.5π)───@───T───\n",
      "\n",
      "2: ───H───T───────@──────────Rx(0.5π)───T───────\n",
      "                  │\n",
      "3: ───H───@───T───@──────────Rx(0.5π)───@───T───\n",
      "          │                             │\n",
      "4: ───H───@───T───Rx(0.5π)──────────────@───T───\n"
     ]
    }
   ],
   "source": [
    "q_line = cirq.LineQubit.range(num_q)\n",
    "line_circuit = cirq.Circuit()\n",
    "\n",
    "for gate in gates:        \n",
    "    if len(gate.qs) == 1 and gate.name[0] != 'r':\n",
    "        line_circuit.append(getattr(cirq, gate.name)(q_line[gate.qs[0]]))\n",
    "    elif len(gate.qs) == 1:\n",
    "        line_circuit.append(getattr(cirq, gate.name)(np.pi / 2)(q_line[gate.qs[0]]))\n",
    "    elif len(gate.qs) == 2:\n",
    "        line_circuit.append(getattr(cirq, gate.name)(q_line[gate.qs[0]], q_line[gate.qs[1]]))\n",
    "print(line_circuit)\n",
    "#barier"
   ]
  },
  {
   "cell_type": "code",
   "execution_count": 790,
   "metadata": {},
   "outputs": [
    {
     "name": "stdout",
     "output_type": "stream",
     "text": [
      "measurements: (no measurements)\n",
      "output vector: [-0.        +0.17677665j -0.12499996+0.12499996j -0.12499996+0.12499996j\n",
      "  0.17677665+0.j         -0.12499996+0.12499996j -0.17677665-0.j\n",
      "  0.17677665+0.j         -0.12499996-0.12499996j -0.12499996+0.12499996j\n",
      " -0.17677665+0.j         -0.17677665+0.j          0.12499996+0.12499996j\n",
      " -0.17677665+0.j         -0.12499996-0.12499996j  0.12499996+0.12499996j\n",
      "  0.        -0.17677665j -0.12499996+0.12499996j -0.17677665+0.j\n",
      " -0.17677665+0.j          0.12499996+0.12499996j -0.17677665+0.j\n",
      " -0.12499996-0.12499996j  0.12499996+0.12499996j  0.        -0.17677665j\n",
      " -0.17677665-0.j         -0.12499996-0.12499996j -0.12499996-0.12499996j\n",
      "  0.        +0.17677665j -0.12499996-0.12499996j  0.        -0.17677665j\n",
      "  0.        +0.17677665j  0.12499996-0.12499996j]\n"
     ]
    }
   ],
   "source": [
    "sim = cirq.Simulator()\n",
    "results_line = sim.simulate(line_circuit)\n",
    "print(results_line)"
   ]
  },
  {
   "cell_type": "markdown",
   "metadata": {},
   "source": [
    "### Simulate with Swaps"
   ]
  },
  {
   "cell_type": "code",
   "execution_count": 791,
   "metadata": {},
   "outputs": [
    {
     "name": "stdout",
     "output_type": "stream",
     "text": [
      "               ┌─────────┐              ┌─────────┐                                 ┌─────────┐\n",
      "(0, 1): ───H────@────────────Rx(0.5π)────────────────────────────────@───Rx(0.5π)────────────────────────────────@───T───────────────────\n",
      "                │                                                    │                                           │\n",
      "(1, 0): ───H────┼Rx(0.5π)────Rx(0.5π)────────────────────────────────┼───────────────────────────────────────────┼───────@───T───────×───\n",
      "                │                                                    │                                           │       │           │\n",
      "(1, 1): ───H────@────────────×───────────@────────────Rx(0.5π)───×───@───×───────────@────────────Rx(0.5π)───×───@───×───@───T───×───×───\n",
      "                             │           │                       │       │           │                       │       │           │\n",
      "(1, 2): ───H─────────────────×───────────┼Rx(0.5π)───────────────×───────×───────────┼Rx(0.5π)───────────────×───────×───T───────×───────\n",
      "                                         │                                           │\n",
      "(2, 1): ───H─────────────────────────────@────────────Rx(0.5π)───────────────────────@────────────Rx(0.5π)───T───────────────────────────\n",
      "               └─────────┘              └─────────┘                                 └─────────┘\n"
     ]
    }
   ],
   "source": [
    "q_cross = []\n",
    "#В начале в центре первый кубит (можем применять CZ на пары (0,1) и (1,2)), при необходимости меняем его и третий (получаем оставшиеся пары (2,3) и (3,4))\n",
    "q_cross.append(cirq.GridQubit(0, 1))    #qubit 0\n",
    "q_cross.append(cirq.GridQubit(1, 1))    #qubit 1\n",
    "q_cross.append(cirq.GridQubit(1, 0))    #qubit 2\n",
    "q_cross.append(cirq.GridQubit(1, 2))    #qubit 3\n",
    "q_cross.append(cirq.GridQubit(2, 1))    #qubit 4\n",
    "\n",
    "cross_circuit = cirq.Circuit()\n",
    "current = 1\n",
    "\n",
    "for gate in gates:        \n",
    "    if len(gate.qs) == 1 and gate.name[0] != 'r':\n",
    "        cross_circuit.append(getattr(cirq, gate.name)(q_cross[gate.qs[0]]))\n",
    "    elif len(gate.qs) == 1:\n",
    "        cross_circuit.append(getattr(cirq, gate.name)(np.pi / 2)(q_cross[gate.qs[0]]))\n",
    "    elif len(gate.qs) == 2:\n",
    "        if 3 in gate.qs and current == 1:\n",
    "            qb = gate.qs[1 - gate.qs.index(3)]\n",
    "            cross_circuit.append(cirq.SWAP(q_cross[1], q_cross[3]))\n",
    "            current = 3\n",
    "        elif 1 in gate.qs and current == 3:\n",
    "            qb = gate.qs[1 - gate.qs.index(1)]\n",
    "            cross_circuit.append(cirq.SWAP(q_cross[1], q_cross[3]))\n",
    "            current = 1\n",
    "        else:\n",
    "            qb = gate.qs[1 - gate.qs.index(current)]\n",
    "        cross_circuit.append(getattr(cirq, gate.name)(q_cross[1], q_cross[qb]))\n",
    "if current == 3:\n",
    "    cross_circuit.append(cirq.SWAP(q_cross[1], q_cross[3]))\n",
    "cross_circuit.append(cirq.SWAP(q_cross[1], q_cross[2]))\n",
    "print(cross_circuit)"
   ]
  },
  {
   "cell_type": "code",
   "execution_count": 792,
   "metadata": {},
   "outputs": [
    {
     "name": "stdout",
     "output_type": "stream",
     "text": [
      "measurements: (no measurements)\n",
      "output vector: [-0.        +0.17677665j -0.12499996+0.12499996j -0.12499996+0.12499996j\n",
      "  0.17677665+0.j         -0.12499996+0.12499996j -0.17677665-0.j\n",
      "  0.17677665+0.j         -0.12499996-0.12499996j -0.12499996+0.12499996j\n",
      " -0.17677665+0.j         -0.17677665+0.j          0.12499996+0.12499996j\n",
      " -0.17677665+0.j         -0.12499996-0.12499996j  0.12499996+0.12499996j\n",
      "  0.        -0.17677665j -0.12499996+0.12499996j -0.17677665+0.j\n",
      " -0.17677665+0.j          0.12499996+0.12499996j -0.17677665+0.j\n",
      " -0.12499996-0.12499996j  0.12499996+0.12499996j  0.        -0.17677665j\n",
      " -0.17677665-0.j         -0.12499996-0.12499996j -0.12499996-0.12499996j\n",
      "  0.        +0.17677665j -0.12499996-0.12499996j  0.        -0.17677665j\n",
      "  0.        +0.17677665j  0.12499996-0.12499996j]\n"
     ]
    }
   ],
   "source": [
    "sim_cross = cirq.Simulator()\n",
    "results_cross = sim_cross.simulate(cross_circuit)\n",
    "print(results_cross)"
   ]
  },
  {
   "cell_type": "markdown",
   "metadata": {},
   "source": [
    "### Results comparison"
   ]
  },
  {
   "cell_type": "code",
   "execution_count": 793,
   "metadata": {},
   "outputs": [
    {
     "data": {
      "text/plain": [
       "array([0.+0.j, 0.+0.j, 0.+0.j, 0.+0.j, 0.+0.j, 0.+0.j, 0.+0.j, 0.+0.j,\n",
       "       0.+0.j, 0.+0.j, 0.+0.j, 0.+0.j, 0.+0.j, 0.+0.j, 0.+0.j, 0.+0.j,\n",
       "       0.+0.j, 0.+0.j, 0.+0.j, 0.+0.j, 0.+0.j, 0.+0.j, 0.+0.j, 0.+0.j,\n",
       "       0.+0.j, 0.+0.j, 0.+0.j, 0.+0.j, 0.+0.j, 0.+0.j, 0.+0.j, 0.+0.j],\n",
       "      dtype=complex64)"
      ]
     },
     "execution_count": 793,
     "metadata": {},
     "output_type": "execute_result"
    }
   ],
   "source": [
    "np.round(results_line.final_state_vector - results_cross.final_state_vector, 3)\n",
    "#Результаты одинаковые"
   ]
  },
  {
   "cell_type": "code",
   "execution_count": null,
   "metadata": {},
   "outputs": [],
   "source": []
  }
 ],
 "metadata": {
  "kernelspec": {
   "display_name": "Python 3",
   "language": "python",
   "name": "python3"
  },
  "language_info": {
   "codemirror_mode": {
    "name": "ipython",
    "version": 3
   },
   "file_extension": ".py",
   "mimetype": "text/x-python",
   "name": "python",
   "nbconvert_exporter": "python",
   "pygments_lexer": "ipython3",
   "version": "3.9.0"
  }
 },
 "nbformat": 4,
 "nbformat_minor": 4
}
